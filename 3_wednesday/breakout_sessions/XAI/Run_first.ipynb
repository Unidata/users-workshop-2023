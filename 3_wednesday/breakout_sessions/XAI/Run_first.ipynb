{
 "cells": [
  {
   "cell_type": "markdown",
   "id": "d5a8f395-6d22-4db6-b9ce-a89c92d38b03",
   "metadata": {},
   "source": [
    "# Run this first!"
   ]
  },
  {
   "attachments": {},
   "cell_type": "markdown",
   "id": "cec76c8c",
   "metadata": {},
   "source": [
    "Before running anything, please check which enviroment you are using! (upper right hand corner)"
   ]
  },
  {
   "cell_type": "markdown",
   "id": "216a5501-c585-4bbd-9fba-edf9f24c5c70",
   "metadata": {},
   "source": [
    "Need to install wget and download the dataset"
   ]
  },
  {
   "cell_type": "code",
   "execution_count": 3,
   "id": "b334dc48-8593-4806-a59e-70810c27c2ce",
   "metadata": {
    "tags": []
   },
   "outputs": [],
   "source": [
    "import wget"
   ]
  },
  {
   "cell_type": "code",
   "execution_count": 4,
   "id": "b1bee85f-5692-41be-b2bc-721b97cdb9d0",
   "metadata": {
    "tags": []
   },
   "outputs": [
    {
     "data": {
      "text/plain": [
       "'ERSSTv5_deseasoneddetrended_5monthrunningmean_1950-2021.nc'"
      ]
     },
     "execution_count": 4,
     "metadata": {},
     "output_type": "execute_result"
    }
   ],
   "source": [
    "# Define the remote file to retrieve\n",
    "remote_url = 'https://eabarnes-data.atmos.colostate.edu/tutorials/ERSSTv5_deseasoneddetrended_5monthrunningmean_1950-2021.nc'\n",
    "# Define the local filename to save data\n",
    "local_file = 'ERSSTv5_deseasoneddetrended_5monthrunningmean_1950-2021.nc'\n",
    "# Make http request for remote file data\n",
    "wget.download(remote_url, local_file)"
   ]
  }
 ],
 "metadata": {
  "kernelspec": {
   "display_name": "Python [conda env:users-workshop-2023]",
   "language": "python",
   "name": "conda-env-users-workshop-2023-py"
  },
  "language_info": {
   "codemirror_mode": {
    "name": "ipython",
    "version": 3
   },
   "file_extension": ".py",
   "mimetype": "text/x-python",
   "name": "python",
   "nbconvert_exporter": "python",
   "pygments_lexer": "ipython3",
   "version": "3.10.0"
  }
 },
 "nbformat": 4,
 "nbformat_minor": 5
}
